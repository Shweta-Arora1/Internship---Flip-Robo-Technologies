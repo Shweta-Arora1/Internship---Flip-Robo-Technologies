{
 "cells": [
  {
   "cell_type": "code",
   "execution_count": 1,
   "metadata": {},
   "outputs": [],
   "source": [
    "import requests\n",
    "from bs4 import BeautifulSoup\n",
    "import pandas as pd\n",
    "from IPython.display import Image, display,HTML\n",
    "from selenium import webdriver\n",
    "from selenium.webdriver.common.keys import Keys\n",
    "from selenium.webdriver.common.by import By"
   ]
  },
  {
   "cell_type": "code",
   "execution_count": 2,
   "metadata": {},
   "outputs": [],
   "source": [
    "# url = \"https://www.naukri.com/\"\n",
    "# response = requests.get(url).text\n",
    "# soup = BeautifulSoup(response, \"html.parser\")\n",
    "# soup"
   ]
  },
  {
   "cell_type": "code",
   "execution_count": 3,
   "metadata": {},
   "outputs": [],
   "source": [
    "driver = webdriver.Firefox()"
   ]
  },
  {
   "cell_type": "code",
   "execution_count": null,
   "metadata": {},
   "outputs": [],
   "source": []
  },
  {
   "cell_type": "code",
   "execution_count": 4,
   "metadata": {},
   "outputs": [],
   "source": [
    "driver.get(\"https://www.naukri.com/\")"
   ]
  },
  {
   "cell_type": "code",
   "execution_count": 5,
   "metadata": {},
   "outputs": [],
   "source": [
    "ele = driver.find_elements(By.CLASS_NAME,'suggestor-wrapper')"
   ]
  },
  {
   "cell_type": "code",
   "execution_count": 6,
   "metadata": {},
   "outputs": [
    {
     "data": {
      "image/png": "[encoded data removed]",
      "text/plain": [
       "<IPython.core.display.Image object>"
      ]
     },
     "metadata": {},
     "output_type": "display_data"
    },
    {
     "data": {
      "image/png": "[encoded data removed]",
      "text/plain": [
       "<IPython.core.display.Image object>"
      ]
     },
     "metadata": {},
     "output_type": "display_data"
    }
   ],
   "source": [
    "for x in ele:\n",
    "    display(Image(x.screenshot_as_png))"
   ]
  },
  {
   "cell_type": "code",
   "execution_count": 7,
   "metadata": {},
   "outputs": [],
   "source": [
    "skills_input_element = ele[0].find_element(By.TAG_NAME,'input')"
   ]
  },
  {
   "cell_type": "code",
   "execution_count": 8,
   "metadata": {},
   "outputs": [],
   "source": [
    "location_input_element = ele[1].find_element(By.TAG_NAME,'input')"
   ]
  },
  {
   "cell_type": "code",
   "execution_count": 9,
   "metadata": {},
   "outputs": [],
   "source": [
    "skills_input_element.send_keys(\"Data Analyst\")\n",
    "skills_input_element.send_keys(Keys.RETURN)\n",
    "location_input_element.send_keys('Bangalore')\n",
    "location_input_element.send_keys(Keys.RETURN)"
   ]
  },
  {
   "cell_type": "code",
   "execution_count": 10,
   "metadata": {},
   "outputs": [],
   "source": [
    "driver.current_url\n",
    "from time import sleep\n",
    "sleep(10)"
   ]
  },
  {
   "cell_type": "code",
   "execution_count": 11,
   "metadata": {},
   "outputs": [],
   "source": [
    "job_cards_elements = driver.find_elements(By.CLASS_NAME,'jobTuple')"
   ]
  },
  {
   "cell_type": "code",
   "execution_count": 12,
   "metadata": {},
   "outputs": [],
   "source": [
    "data = []\n",
    "for job_card_element in job_cards_elements:\n",
    "    job_card_header_element  = job_card_element.find_element(By.CLASS_NAME,'jobTupleHeader')\n",
    "    # header info\n",
    "    job_title = job_card_header_element.find_element(By.CLASS_NAME,'title').text\n",
    "    company_name = job_card_header_element.find_element(By.CLASS_NAME,'subTitle').text\n",
    "    star_rating_elements = job_card_header_element.find_elements(By.CLASS_NAME,'starRating')\n",
    "    star_rating = star_rating_elements[0].text if len(star_rating_elements)>0 else 0\n",
    "    reviews_count_elements = job_card_header_element.find_elements(By.CLASS_NAME,'reviewsCount')\n",
    "    reviews_count = star_rating_elements[0].text if len(star_rating_elements)>0 else 0\n",
    "    # body\n",
    "    job_description = job_card_element.find_element(By.CLASS_NAME,'job-description').text\n",
    "    tags_element = job_card_element.find_element(By.CLASS_NAME,'tags')\n",
    "    tags_list = list(map(lambda x : x.text,tags_element.find_elements(By.TAG_NAME,'li')))\n",
    "    #footer\n",
    "    post_date = job_card_element.find_element(By.CLASS_NAME,'jobTupleFooter').find_element(By.CLASS_NAME,'postedDate').text\n",
    "    data.append({\n",
    "        \"job_title\":job_title,\n",
    "        \"company_name\":company_name,\n",
    "        \"company_star_rating\":star_rating,\n",
    "        \"company_reviews_count\":reviews_count,\n",
    "        \"tags_list\":tags_list,\n",
    "        \"job_post_date\":post_date\n",
    "    })\n",
    "    \n"
   ]
  },
  {
   "cell_type": "code",
   "execution_count": 13,
   "metadata": {},
   "outputs": [],
   "source": [
    "df = pd.DataFrame.from_dict(data)"
   ]
  },
  {
   "cell_type": "code",
   "execution_count": 14,
   "metadata": {},
   "outputs": [
    {
     "name": "stdout",
     "output_type": "stream",
     "text": [
      "           job_title company_name company_star_rating company_reviews_count  \\\n",
      "0  Tech Data Analyst        Wipro                 3.9                   3.9   \n",
      "\n",
      "                                           tags_list job_post_date  \n",
      "0  [Tableau, Data Analytics, Python, sql, Technic...    7 Days Ago  \n"
     ]
    }
   ],
   "source": [
    "print(df[:1])"
   ]
  },
  {
   "cell_type": "code",
   "execution_count": 15,
   "metadata": {},
   "outputs": [
    {
     "data": {
      "text/html": [
       "<table border=\"1\" class=\"dataframe\">\n",
       "  <thead>\n",
       "    <tr style=\"text-align: right;\">\n",
       "      <th></th>\n",
       "      <th>job_title</th>\n",
       "      <th>company_name</th>\n",
       "      <th>company_star_rating</th>\n",
       "      <th>company_reviews_count</th>\n",
       "      <th>tags_list</th>\n",
       "      <th>job_post_date</th>\n",
       "    </tr>\n",
       "  </thead>\n",
       "  <tbody>\n",
       "    <tr>\n",
       "      <th>0</th>\n",
       "      <td>Tech Data Analyst</td>\n",
       "      <td>Wipro</td>\n",
       "      <td>3.9</td>\n",
       "      <td>3.9</td>\n",
       "      <td>[Tableau, Data Analytics, Python, sql, Technical analysis, Data Transformation, Data analysis, Bi]</td>\n",
       "      <td>7 Days Ago</td>\n",
       "    </tr>\n",
       "    <tr>\n",
       "      <th>1</th>\n",
       "      <td>Data Analyst</td>\n",
       "      <td>Tata Consultancy Services (TCS)</td>\n",
       "      <td>3.9</td>\n",
       "      <td>3.9</td>\n",
       "      <td>[Analysis, Data, Data analysis]</td>\n",
       "      <td>1 Day Ago</td>\n",
       "    </tr>\n",
       "    <tr>\n",
       "      <th>2</th>\n",
       "      <td>Data Analyst</td>\n",
       "      <td>Artech</td>\n",
       "      <td>0</td>\n",
       "      <td>0</td>\n",
       "      <td>[Oracle plsql, R, data analysis, unix shell scripting, R Shiny, Unix, PLSQL, JIRA]</td>\n",
       "      <td>1 Day Ago</td>\n",
       "    </tr>\n",
       "    <tr>\n",
       "      <th>3</th>\n",
       "      <td>Insight Data Analyst</td>\n",
       "      <td>Vuca Consulting</td>\n",
       "      <td>0</td>\n",
       "      <td>0</td>\n",
       "      <td>[Business Analytics, Power Bi, Tableau, Data Visualization, Data Analytics, Metrics analysis, Python, Development]</td>\n",
       "      <td>1 Day Ago</td>\n",
       "    </tr>\n",
       "    <tr>\n",
       "      <th>4</th>\n",
       "      <td>Data Analyst</td>\n",
       "      <td>KPI Partners</td>\n",
       "      <td>4.1</td>\n",
       "      <td>4.1</td>\n",
       "      <td>[Analysis, Excel, Analytical, Data analysis, Data, SQL, Analytics, Analytical Skill]</td>\n",
       "      <td>1 Day Ago</td>\n",
       "    </tr>\n",
       "    <tr>\n",
       "      <th>5</th>\n",
       "      <td>Data Analyst</td>\n",
       "      <td>Vsmart World Communication</td>\n",
       "      <td>0</td>\n",
       "      <td>0</td>\n",
       "      <td>[Data analysis, Data, Data Analyst]</td>\n",
       "      <td>1 Day Ago</td>\n",
       "    </tr>\n",
       "    <tr>\n",
       "      <th>6</th>\n",
       "      <td>Data Analyst</td>\n",
       "      <td>Brunel</td>\n",
       "      <td>4.4</td>\n",
       "      <td>4.4</td>\n",
       "      <td>[Analysis, Excel, VLOOKUP, Data analysis, Data, Business analysis, Data quality, Powerpoint]</td>\n",
       "      <td>2 Days Ago</td>\n",
       "    </tr>\n",
       "    <tr>\n",
       "      <th>7</th>\n",
       "      <td>Celonis &amp; Salesforce Data Analyst</td>\n",
       "      <td>Hitachi Energy</td>\n",
       "      <td>4.0</td>\n",
       "      <td>4.0</td>\n",
       "      <td>[Improvement, Intelligence, Data analysis, Data, Business intelligence, SQL, Process, CRM]</td>\n",
       "      <td>2 Days Ago</td>\n",
       "    </tr>\n",
       "    <tr>\n",
       "      <th>8</th>\n",
       "      <td>Celonis &amp; Salesforce Data Analyst</td>\n",
       "      <td>Hitachi Ltd.</td>\n",
       "      <td>4.1</td>\n",
       "      <td>4.1</td>\n",
       "      <td>[Salesforce, Improvement, Analysis, Analytical, Data modeling, Data analysis, Process improvement, Data]</td>\n",
       "      <td>3 Days Ago</td>\n",
       "    </tr>\n",
       "    <tr>\n",
       "      <th>9</th>\n",
       "      <td>Data Analyst</td>\n",
       "      <td>HARMAN</td>\n",
       "      <td>3.8</td>\n",
       "      <td>3.8</td>\n",
       "      <td>[ssms, ms sql, sql queries, SQL Coding, SQL Server, Query, Data analysis, Coding]</td>\n",
       "      <td>4 Days Ago</td>\n",
       "    </tr>\n",
       "    <tr>\n",
       "      <th>10</th>\n",
       "      <td>Data Analyst</td>\n",
       "      <td>Aon</td>\n",
       "      <td>4.0</td>\n",
       "      <td>4.0</td>\n",
       "      <td>[Alteryx, Tableau, sql, Data, Analysis, Data analysis]</td>\n",
       "      <td>5 Days Ago</td>\n",
       "    </tr>\n",
       "    <tr>\n",
       "      <th>11</th>\n",
       "      <td>Data Analyst</td>\n",
       "      <td>Aon</td>\n",
       "      <td>4.0</td>\n",
       "      <td>4.0</td>\n",
       "      <td>[data analysis, Alteryx, SQL, Tableau, Analysis, Data]</td>\n",
       "      <td>5 Days Ago</td>\n",
       "    </tr>\n",
       "    <tr>\n",
       "      <th>12</th>\n",
       "      <td>Data Analyst - Marketplace &amp; Omni channel</td>\n",
       "      <td>Myntra</td>\n",
       "      <td>4.1</td>\n",
       "      <td>4.1</td>\n",
       "      <td>[SPSS, Channel, Business intelligence, Intelligence, Analytical Skill, SAS, Data, Automation]</td>\n",
       "      <td>6 Days Ago</td>\n",
       "    </tr>\n",
       "    <tr>\n",
       "      <th>13</th>\n",
       "      <td>Data Analyst (Bangalore)</td>\n",
       "      <td>Krazy Mantra</td>\n",
       "      <td>0</td>\n",
       "      <td>0</td>\n",
       "      <td>[Kibana, Power BI, Tableau, Data Analytics, SQL, Kinesis, 8D, Data analysis]</td>\n",
       "      <td>2 Days Ago</td>\n",
       "    </tr>\n",
       "    <tr>\n",
       "      <th>14</th>\n",
       "      <td>Data Analyst</td>\n",
       "      <td>The Times Group</td>\n",
       "      <td>3.9</td>\n",
       "      <td>3.9</td>\n",
       "      <td>[Data analysis, Machine, Data, Analysis, Machine learning]</td>\n",
       "      <td>10 Days Ago</td>\n",
       "    </tr>\n",
       "    <tr>\n",
       "      <th>15</th>\n",
       "      <td>Data Analyst</td>\n",
       "      <td>Koch Industries</td>\n",
       "      <td>3.8</td>\n",
       "      <td>3.8</td>\n",
       "      <td>[AWS, Amazon Redshift, Machine learning, Power Bi, Tableau, Bi, Data, Oracle]</td>\n",
       "      <td>4 Days Ago</td>\n",
       "    </tr>\n",
       "    <tr>\n",
       "      <th>16</th>\n",
       "      <td>Data Analyst</td>\n",
       "      <td>Loyalytics Consulting</td>\n",
       "      <td>3.8</td>\n",
       "      <td>3.8</td>\n",
       "      <td>[IT services, Data analysis, Monitoring, Data, Process orientation, SQL, Analytics, SAN]</td>\n",
       "      <td>2 Days Ago</td>\n",
       "    </tr>\n",
       "    <tr>\n",
       "      <th>17</th>\n",
       "      <td>Data Analyst</td>\n",
       "      <td>Clairvoyant India Pvt. Ltd</td>\n",
       "      <td>4.2</td>\n",
       "      <td>4.2</td>\n",
       "      <td>[Technology consulting, Consulting, Analysis, Financial services, Agile, Automation, Data analysis, Data]</td>\n",
       "      <td>2 Days Ago</td>\n",
       "    </tr>\n",
       "    <tr>\n",
       "      <th>18</th>\n",
       "      <td>Data Analyst</td>\n",
       "      <td>Lowes Services India Private limited</td>\n",
       "      <td>4.3</td>\n",
       "      <td>4.3</td>\n",
       "      <td>[Cognos, Object, Data, SQL, Oracle, Teradata, Management, Automation]</td>\n",
       "      <td>2 Days Ago</td>\n",
       "    </tr>\n",
       "    <tr>\n",
       "      <th>19</th>\n",
       "      <td>Data Analyst</td>\n",
       "      <td>Aventus Technology India</td>\n",
       "      <td>0</td>\n",
       "      <td>0</td>\n",
       "      <td>[bi tools, Risk Analytics, Data Analysis, finance, Analytics, Data, Tools, Analysis]</td>\n",
       "      <td>4 Days Ago</td>\n",
       "    </tr>\n",
       "  </tbody>\n",
       "</table>"
      ],
      "text/plain": [
       "<IPython.core.display.HTML object>"
      ]
     },
     "metadata": {},
     "output_type": "display_data"
    }
   ],
   "source": [
    "display(HTML(df.to_html()))"
   ]
  },
  {
   "cell_type": "code",
   "execution_count": null,
   "metadata": {},
   "outputs": [],
   "source": []
  }
 ],
 "metadata": {
  "kernelspec": {
   "display_name": "Python 3",
   "language": "python",
   "name": "python3"
  },
  "language_info": {
   "codemirror_mode": {
    "name": "ipython",
    "version": 3
   },
   "file_extension": ".py",
   "mimetype": "text/x-python",
   "name": "python",
   "nbconvert_exporter": "python",
   "pygments_lexer": "ipython3",
   "version": "3.8.10"
  },
  "orig_nbformat": 4
 },
 "nbformat": 4,
 "nbformat_minor": 2
}
